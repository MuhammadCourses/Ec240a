{
 "cells": [
  {
   "cell_type": "markdown",
   "metadata": {},
   "source": [
    "# Problem 3 PS 2\n",
    " Muhammad Bashir"
   ]
  },
  {
   "cell_type": "code",
   "execution_count": 25,
   "metadata": {},
   "outputs": [],
   "source": [
    "# Load Libraries \n",
    "import pandas as pd\n",
    "import numpy as np\n",
    "import matplotlib.pyplot as plt\n"
   ]
  },
  {
   "cell_type": "code",
   "execution_count": 18,
   "metadata": {},
   "outputs": [
    {
     "data": {
      "text/html": [
       "<div>\n",
       "<style scoped>\n",
       "    .dataframe tbody tr th:only-of-type {\n",
       "        vertical-align: middle;\n",
       "    }\n",
       "\n",
       "    .dataframe tbody tr th {\n",
       "        vertical-align: top;\n",
       "    }\n",
       "\n",
       "    .dataframe thead th {\n",
       "        text-align: right;\n",
       "    }\n",
       "</style>\n",
       "<table border=\"1\" class=\"dataframe\">\n",
       "  <thead>\n",
       "    <tr style=\"text-align: right;\">\n",
       "      <th></th>\n",
       "      <th>Y0tc</th>\n",
       "      <th>X0te</th>\n",
       "    </tr>\n",
       "  </thead>\n",
       "  <tbody>\n",
       "    <tr>\n",
       "      <th>0</th>\n",
       "      <td>9.061790</td>\n",
       "      <td>9.917698</td>\n",
       "    </tr>\n",
       "    <tr>\n",
       "      <th>1</th>\n",
       "      <td>7.870896</td>\n",
       "      <td>8.276105</td>\n",
       "    </tr>\n",
       "    <tr>\n",
       "      <th>2</th>\n",
       "      <td>8.262976</td>\n",
       "      <td>8.036979</td>\n",
       "    </tr>\n",
       "    <tr>\n",
       "      <th>3</th>\n",
       "      <td>9.057076</td>\n",
       "      <td>9.212327</td>\n",
       "    </tr>\n",
       "    <tr>\n",
       "      <th>4</th>\n",
       "      <td>8.953918</td>\n",
       "      <td>9.826068</td>\n",
       "    </tr>\n",
       "  </tbody>\n",
       "</table>\n",
       "</div>"
      ],
      "text/plain": [
       "       Y0tc      X0te\n",
       "0  9.061790  9.917698\n",
       "1  7.870896  8.276105\n",
       "2  8.262976  8.036979\n",
       "3  9.057076  9.212327\n",
       "4  8.953918  9.826068"
      ]
     },
     "execution_count": 18,
     "metadata": {},
     "output_type": "execute_result"
    }
   ],
   "source": [
    "# set paths to working directory \n",
    "path = '/Users/muhammadbashir/GitHub/MuhammadCourses/Ec240a/Problem Sets/PS1'\n",
    "# load RPS_calorie_data.out data and read only columns Y0tc and X0te.\n",
    "calories = pd.read_csv(path + '/RPS_calorie_data.out',usecols=['Y0tc','X0te'])\n",
    "calories.head()"
   ]
  },
  {
   "cell_type": "markdown",
   "metadata": {},
   "source": [
    "Let \\( Y \\) denote log calories and \\( X \\) denote log expenditure. Assume that\n",
    "\\[\n",
    "m(x) = \\mathbb{E}[Y \\mid X = x] = \\sum_{k=1}^{K} \\alpha_k g_k(x),\n",
    "\\]\n",
    "\n",
    "where \\( g_k(x) = x^{k-1} \\).\n",
    "\n",
    "Using the power series basis described above and the Gram-Schmidt algorithm construct a new basis\n",
    "that is orthogonal to the design points (set \\( K = 12 \\)). Let \\( W_i \\) denote the \\( K \\times 1 \\) vector of orthonormal\n",
    "basis functions for the \\( i \\)-th household. Compute the least squares fit\n",
    "\\( m (X_i) = W_i^0 \\hat{\\theta} \\)\n",
    "with\n",
    "\\[\n",
    "\\hat{\\theta} =\n",
    "\\left( \\sum_{i=1}^{N} W_i W_i^0 \\right)^{-1}\n",
    "\\times\n",
    "\\left( \\sum_{i=1}^{N} W_i Y_i \\right).\n",
    "\\]\n",
    "Plot this function onto a scatter of the unsmoothed data.\n"
   ]
  },
  {
   "cell_type": "code",
   "execution_count": 35,
   "metadata": {},
   "outputs": [],
   "source": [
    "# First create K =12 g functions/polynomials, where g_k(x) = x^k-1 for the column X0te.\n",
    "K = 12\n",
    "for k in range(1,K+1):\n",
    "    calories['X0te_g'+str(k)] = calories['X0te']**(k-1)"
   ]
  },
  {
   "cell_type": "markdown",
   "metadata": {},
   "source": [
    "Orthogonalize g functions using Gram-Schmidt algoritm"
   ]
  },
  {
   "cell_type": "code",
   "execution_count": 36,
   "metadata": {},
   "outputs": [
    {
     "data": {
      "text/html": [
       "<div>\n",
       "<style scoped>\n",
       "    .dataframe tbody tr th:only-of-type {\n",
       "        vertical-align: middle;\n",
       "    }\n",
       "\n",
       "    .dataframe tbody tr th {\n",
       "        vertical-align: top;\n",
       "    }\n",
       "\n",
       "    .dataframe thead th {\n",
       "        text-align: right;\n",
       "    }\n",
       "</style>\n",
       "<table border=\"1\" class=\"dataframe\">\n",
       "  <thead>\n",
       "    <tr style=\"text-align: right;\">\n",
       "      <th></th>\n",
       "      <th>X0te_g1</th>\n",
       "      <th>X0te_g2</th>\n",
       "      <th>X0te_g3</th>\n",
       "      <th>X0te_g4</th>\n",
       "      <th>X0te_g5</th>\n",
       "      <th>X0te_g6</th>\n",
       "      <th>X0te_g7</th>\n",
       "      <th>X0te_g8</th>\n",
       "      <th>X0te_g9</th>\n",
       "      <th>X0te_g10</th>\n",
       "      <th>X0te_g11</th>\n",
       "      <th>X0te_g12</th>\n",
       "    </tr>\n",
       "  </thead>\n",
       "  <tbody>\n",
       "    <tr>\n",
       "      <th>0</th>\n",
       "      <td>1.0</td>\n",
       "      <td>9.917698</td>\n",
       "      <td>98.360734</td>\n",
       "      <td>975.512051</td>\n",
       "      <td>9674.833918</td>\n",
       "      <td>95952.081000</td>\n",
       "      <td>951623.761829</td>\n",
       "      <td>9.437917e+06</td>\n",
       "      <td>9.360241e+07</td>\n",
       "      <td>9.283204e+08</td>\n",
       "      <td>9.206802e+09</td>\n",
       "      <td>9.131028e+10</td>\n",
       "    </tr>\n",
       "    <tr>\n",
       "      <th>1</th>\n",
       "      <td>1.0</td>\n",
       "      <td>8.276105</td>\n",
       "      <td>68.493914</td>\n",
       "      <td>566.862824</td>\n",
       "      <td>4691.416251</td>\n",
       "      <td>38826.653493</td>\n",
       "      <td>321333.461103</td>\n",
       "      <td>2.659389e+06</td>\n",
       "      <td>2.200939e+07</td>\n",
       "      <td>1.821520e+08</td>\n",
       "      <td>1.507509e+09</td>\n",
       "      <td>1.247630e+10</td>\n",
       "    </tr>\n",
       "    <tr>\n",
       "      <th>2</th>\n",
       "      <td>1.0</td>\n",
       "      <td>8.036979</td>\n",
       "      <td>64.593031</td>\n",
       "      <td>519.132837</td>\n",
       "      <td>4172.259711</td>\n",
       "      <td>33532.363683</td>\n",
       "      <td>269498.902744</td>\n",
       "      <td>2.165957e+06</td>\n",
       "      <td>1.740775e+07</td>\n",
       "      <td>1.399057e+08</td>\n",
       "      <td>1.124419e+09</td>\n",
       "      <td>9.036935e+09</td>\n",
       "    </tr>\n",
       "    <tr>\n",
       "      <th>3</th>\n",
       "      <td>1.0</td>\n",
       "      <td>9.212327</td>\n",
       "      <td>84.866969</td>\n",
       "      <td>781.822268</td>\n",
       "      <td>7202.402386</td>\n",
       "      <td>66350.885962</td>\n",
       "      <td>611246.058223</td>\n",
       "      <td>5.630999e+06</td>\n",
       "      <td>5.187460e+07</td>\n",
       "      <td>4.778858e+08</td>\n",
       "      <td>4.402440e+09</td>\n",
       "      <td>4.055672e+10</td>\n",
       "    </tr>\n",
       "    <tr>\n",
       "      <th>4</th>\n",
       "      <td>1.0</td>\n",
       "      <td>9.826068</td>\n",
       "      <td>96.551612</td>\n",
       "      <td>948.722708</td>\n",
       "      <td>9322.213846</td>\n",
       "      <td>91600.707157</td>\n",
       "      <td>900074.777374</td>\n",
       "      <td>8.844196e+06</td>\n",
       "      <td>8.690367e+07</td>\n",
       "      <td>8.539214e+08</td>\n",
       "      <td>8.390690e+09</td>\n",
       "      <td>8.244749e+10</td>\n",
       "    </tr>\n",
       "  </tbody>\n",
       "</table>\n",
       "</div>"
      ],
      "text/plain": [
       "   X0te_g1   X0te_g2    X0te_g3     X0te_g4      X0te_g5       X0te_g6  \\\n",
       "0      1.0  9.917698  98.360734  975.512051  9674.833918  95952.081000   \n",
       "1      1.0  8.276105  68.493914  566.862824  4691.416251  38826.653493   \n",
       "2      1.0  8.036979  64.593031  519.132837  4172.259711  33532.363683   \n",
       "3      1.0  9.212327  84.866969  781.822268  7202.402386  66350.885962   \n",
       "4      1.0  9.826068  96.551612  948.722708  9322.213846  91600.707157   \n",
       "\n",
       "         X0te_g7       X0te_g8       X0te_g9      X0te_g10      X0te_g11  \\\n",
       "0  951623.761829  9.437917e+06  9.360241e+07  9.283204e+08  9.206802e+09   \n",
       "1  321333.461103  2.659389e+06  2.200939e+07  1.821520e+08  1.507509e+09   \n",
       "2  269498.902744  2.165957e+06  1.740775e+07  1.399057e+08  1.124419e+09   \n",
       "3  611246.058223  5.630999e+06  5.187460e+07  4.778858e+08  4.402440e+09   \n",
       "4  900074.777374  8.844196e+06  8.690367e+07  8.539214e+08  8.390690e+09   \n",
       "\n",
       "       X0te_g12  \n",
       "0  9.131028e+10  \n",
       "1  1.247630e+10  \n",
       "2  9.036935e+09  \n",
       "3  4.055672e+10  \n",
       "4  8.244749e+10  "
      ]
     },
     "execution_count": 36,
     "metadata": {},
     "output_type": "execute_result"
    }
   ],
   "source": [
    "calories.filter(like='X0te_g').head()"
   ]
  },
  {
   "cell_type": "code",
   "execution_count": 37,
   "metadata": {},
   "outputs": [],
   "source": [
    "calories['X0te_f1'] = calories['X0te_g1']\n",
    "calories['X0te_f2'] = calories['X0te_g2']-(calories['X0te_g2'] * calories['X0te_f1']).mean() / (calories['X0te_f1'] ** 2).mean() * calories['X0te_f1']\n",
    "for k in range(3, K+1):\n",
    "    fk = calories['X0te_g' + str(k)]\n",
    "    for j in range(1, k-1):\n",
    "        fj = calories['X0te_f' + str(j)]\n",
    "        fk -= (calories['X0te_g' + str(k)] * fj).mean() / (fj ** 2).mean() * fj\n",
    "    calories['X0te_f' + str(k)] = fk"
   ]
  },
  {
   "cell_type": "markdown",
   "metadata": {},
   "source": [
    "Compute least square fit of this orthonormal basis"
   ]
  },
  {
   "cell_type": "code",
   "execution_count": 40,
   "metadata": {},
   "outputs": [],
   "source": [
    "# Compute the OLS estimates of the coefficients of the K polynomials i.,e regress Y0tc on the K polynomials fk. \n",
    "# First create a list of the columns of the data frame that contain the K polynomials.\n",
    "X = calories[['X0te_f'+str(k) for k in range(1,13)]]\n",
    "X = np.array(X)\n",
    "Y = calories['Y0tc']\n",
    "Y = np.array(Y)\n",
    "\n",
    "# Compute the OLS estimates of the coefficients of the K polynomials i.,e regress Y0tc on the K polynomials fk.\n",
    "beta = np.linalg.inv(X.T @ X) @ X.T @ Y\n",
    "# predict mean by multiplying the estimated coefficients by the polynomials.\n",
    "calories['Y0tc_hat'] = X @ beta\n",
    "\n"
   ]
  },
  {
   "cell_type": "code",
   "execution_count": 46,
   "metadata": {},
   "outputs": [
    {
     "data": {
      "image/png": "[encoded data removed]",
      "text/plain": [
       "<Figure size 640x480 with 1 Axes>"
      ]
     },
     "metadata": {},
     "output_type": "display_data"
    }
   ],
   "source": [
    "\n",
    "# Plot this function onto a scatter of the unsmoothed data.\n",
    "plt.scatter(calories['X0te'], calories['Y0tc'], label='Data', color='blue', s=10)\n",
    "sorted_indices = np.argsort(calories['X0te'])\n",
    "plt.plot(calories['X0te'].iloc[sorted_indices], calories['Y0tc_hat'].iloc[sorted_indices], label='OLS', color='red')\n",
    "plt.xlabel('X0te')\n",
    "plt.ylabel('Y0tc')\n",
    "plt.legend()\n",
    "plt.title('OLS estimates of the coefficients of the K polynomials')\n",
    "\n",
    "# Add 10 equally spaced xticks\n",
    "xticks = np.linspace(np.floor(calories['X0te'].min()), np.ceil(calories['X0te'].max()), 8)\n",
    "xticks = xticks.astype(int)\n",
    "plt.xticks(xticks)\n",
    "\n",
    "plt.show()"
   ]
  },
  {
   "cell_type": "markdown",
   "metadata": {},
   "source": [
    "3. Now use the shrinkage estimator of Efromovich (1999) as described in lecture to estimate m (Xi). Plot\n",
    "this function onto a scatter of the unsmoothed data. Comment on your findings."
   ]
  },
  {
   "cell_type": "code",
   "execution_count": null,
   "metadata": {},
   "outputs": [],
   "source": []
  }
 ],
 "metadata": {
  "kernelspec": {
   "display_name": "Python 3",
   "language": "python",
   "name": "python3"
  },
  "language_info": {
   "codemirror_mode": {
    "name": "ipython",
    "version": 3
   },
   "file_extension": ".py",
   "mimetype": "text/x-python",
   "name": "python",
   "nbconvert_exporter": "python",
   "pygments_lexer": "ipython3",
   "version": "3.12.6"
  }
 },
 "nbformat": 4,
 "nbformat_minor": 2
}
